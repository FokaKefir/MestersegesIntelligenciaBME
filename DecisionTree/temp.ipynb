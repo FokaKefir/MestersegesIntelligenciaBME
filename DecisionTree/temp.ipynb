{
 "cells": [
  {
   "cell_type": "code",
   "execution_count": 1,
   "metadata": {},
   "outputs": [],
   "source": [
    "import numpy as np\n",
    "from solution import *"
   ]
  },
  {
   "cell_type": "code",
   "execution_count": 2,
   "metadata": {},
   "outputs": [],
   "source": [
    "data = np.loadtxt(\"train.csv\", delimiter=',', dtype=np.int32)"
   ]
  },
  {
   "cell_type": "code",
   "execution_count": 3,
   "metadata": {},
   "outputs": [
    {
     "data": {
      "text/plain": [
       "array([[   5,   44,    6, ...,   38, -122,    0],\n",
       "       [   2,   17,    4, ...,   39, -122,    0],\n",
       "       [   4,    4,    4, ...,   38, -122,    0],\n",
       "       ...,\n",
       "       [   3,   30,    5, ...,   36, -119,    0],\n",
       "       [   7,   38,    7, ...,   37, -122,    0],\n",
       "       [   3,   48,    5, ...,   38, -123,    0]])"
      ]
     },
     "execution_count": 3,
     "metadata": {},
     "output_type": "execute_result"
    }
   ],
   "source": [
    "data"
   ]
  },
  {
   "cell_type": "code",
   "execution_count": 4,
   "metadata": {},
   "outputs": [
    {
     "data": {
      "text/plain": [
       "0.0"
      ]
     },
     "execution_count": 4,
     "metadata": {},
     "output_type": "execute_result"
    }
   ],
   "source": [
    "get_entropy(0, 1)"
   ]
  },
  {
   "cell_type": "code",
   "execution_count": 5,
   "metadata": {},
   "outputs": [],
   "source": [
    "features = data[:, :-1]\n",
    "labels = data[:, -1]"
   ]
  },
  {
   "cell_type": "code",
   "execution_count": 14,
   "metadata": {},
   "outputs": [
    {
     "data": {
      "text/plain": [
       "(7, -119)"
      ]
     },
     "execution_count": 14,
     "metadata": {},
     "output_type": "execute_result"
    }
   ],
   "source": [
    "get_best_separation(features, labels)"
   ]
  },
  {
   "cell_type": "code",
   "execution_count": 20,
   "metadata": {},
   "outputs": [],
   "source": [
    "tree = build_tree(features, labels)"
   ]
  },
  {
   "cell_type": "code",
   "execution_count": 15,
   "metadata": {},
   "outputs": [
    {
     "data": {
      "text/plain": [
       "array([1, 2, 3])"
      ]
     },
     "execution_count": 15,
     "metadata": {},
     "output_type": "execute_result"
    }
   ],
   "source": [
    "a = np.array([1, 2, 2, 2, 3, 1, 1])\n",
    "np.unique(a)"
   ]
  },
  {
   "cell_type": "code",
   "execution_count": 16,
   "metadata": {},
   "outputs": [
    {
     "name": "stdout",
     "output_type": "stream",
     "text": [
      "A eredmény: [ 5  8 12]\n",
      "B eredmény: [6 9 8]\n"
     ]
    }
   ],
   "source": [
    "a = np.array([2, 5, 8, 12, 3])\n",
    "b = np.array([1, 6, 9, 8, 5])\n",
    "sep_val = 5\n",
    "\n",
    "a_result = a[a >= sep_val]\n",
    "b_result = b[a >= sep_val]\n",
    "\n",
    "print(\"A eredmény:\", a_result)\n",
    "print(\"B eredmény:\", b_result)"
   ]
  },
  {
   "cell_type": "code",
   "execution_count": 17,
   "metadata": {},
   "outputs": [
    {
     "name": "stdout",
     "output_type": "stream",
     "text": [
      "Az egyesek száma: 4\n",
      "A nullák száma: 3\n"
     ]
    }
   ],
   "source": [
    "import numpy as np\n",
    "\n",
    "c = np.array([0, 1, 1, 0, 1, 1, 0])\n",
    "\n",
    "num_ones = np.sum(c)\n",
    "num_zeros = len(c) - np.sum(c)\n",
    "print(\"Az egyesek száma:\", num_ones)\n",
    "print(\"A nullák száma:\", num_zeros)"
   ]
  },
  {
   "cell_type": "code",
   "execution_count": 18,
   "metadata": {},
   "outputs": [
    {
     "name": "stdout",
     "output_type": "stream",
     "text": [
      "Csak 1-esekből áll: True\n",
      "Csak 0-ásokból áll: True\n",
      "csak 1: True, csak 0: True\n"
     ]
    }
   ],
   "source": [
    "array_ones = np.array([1, 1, 1, 1, 1])\n",
    "array_zeros = np.array([0, 0, 0, 0, 0])\n",
    "arr = np.array([])\n",
    "\n",
    "check_ones = np.all(array_ones == 1)\n",
    "check_zeros = np.all(array_zeros == 0)\n",
    "\n",
    "print(\"Csak 1-esekből áll:\", check_ones)\n",
    "print(\"Csak 0-ásokból áll:\", check_zeros)\n",
    "\n",
    "print(f\"csak 1: {np.all(arr == 1)}, csak 0: {np.all(arr == 0)}\")"
   ]
  },
  {
   "cell_type": "code",
   "execution_count": 19,
   "metadata": {},
   "outputs": [
    {
     "name": "stdout",
     "output_type": "stream",
     "text": [
      "[[1]\n",
      " [4]\n",
      " [7]]\n"
     ]
    }
   ],
   "source": [
    "matrix = np.array([[1, 2, 3],\n",
    "                   [4, 5, 6],\n",
    "                   [7, 8, 9]])\n",
    "\n",
    "column_index = 1  # Példa: az 1-es indexű oszlopot töröljük\n",
    "\n",
    "new_matrix = np.delete(matrix, column_index, axis=1)\n",
    "new_matrix = np.delete(new_matrix, column_index, axis=1)\n",
    "print(new_matrix)\n"
   ]
  },
  {
   "cell_type": "code",
   "execution_count": 21,
   "metadata": {},
   "outputs": [
    {
     "data": {
      "text/plain": [
       "array([1, 2, 4])"
      ]
     },
     "execution_count": 21,
     "metadata": {},
     "output_type": "execute_result"
    }
   ],
   "source": [
    "arr = np.array([1, 2, 3, 4])\n",
    "np.delete(arr, 2)"
   ]
  },
  {
   "cell_type": "code",
   "execution_count": null,
   "metadata": {},
   "outputs": [],
   "source": []
  }
 ],
 "metadata": {
  "kernelspec": {
   "display_name": "Python 3",
   "language": "python",
   "name": "python3"
  },
  "language_info": {
   "codemirror_mode": {
    "name": "ipython",
    "version": 3
   },
   "file_extension": ".py",
   "mimetype": "text/x-python",
   "name": "python",
   "nbconvert_exporter": "python",
   "pygments_lexer": "ipython3",
   "version": "3.10.11"
  }
 },
 "nbformat": 4,
 "nbformat_minor": 2
}
